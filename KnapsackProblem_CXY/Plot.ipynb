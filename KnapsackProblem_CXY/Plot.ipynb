{
 "cells": [
  {
   "cell_type": "code",
   "execution_count": 1,
   "metadata": {
    "collapsed": true
   },
   "outputs": [],
   "source": [
    "import numpy as np\n",
    "import matplotlib.pyplot as plt\n",
    "import random"
   ]
  },
  {
   "cell_type": "code",
   "execution_count": 2,
   "metadata": {
    "collapsed": true
   },
   "outputs": [],
   "source": [
    "def readResult(filename):\n",
    "    file = open(filename)\n",
    "    results = []\n",
    "    result = []\n",
    "    line = file.readline()\n",
    "    while 1:\n",
    "        while 1:\n",
    "            line = file.readline()\n",
    "            try:\n",
    "                result.append(float(line))\n",
    "            except:\n",
    "                results.append(result)\n",
    "                result = []\n",
    "                print line\n",
    "                break\n",
    "            if not line:\n",
    "                break\n",
    "        if not line:\n",
    "            break\n",
    "        pass # do something\n",
    "    return results"
   ]
  },
  {
   "cell_type": "code",
   "execution_count": 3,
   "metadata": {},
   "outputs": [
    {
     "name": "stdout",
     "output_type": "stream",
     "text": [
      "/Users/caoxiya/Desktop/D/KnapsackProblem/dataset/p08_annel_result.txt\n",
      "\n",
      "/Users/caoxiya/Desktop/D/KnapsackProblem/dataset/p08_annel_result.txt\n",
      "\n",
      "\n",
      "/Users/caoxiya/Desktop/D/KnapsackProblem/dataset/p08_ga_result.txt\n",
      "\n",
      "/Users/caoxiya/Desktop/D/KnapsackProblem/dataset/p08_ga_result.txt\n",
      "\n",
      "\n",
      "/Users/caoxiya/Desktop/D/KnapsackProblem/dataset/p08_rand_result.txt\n",
      "\n",
      "/Users/caoxiya/Desktop/D/KnapsackProblem/dataset/p08_rand_result.txt\n",
      "\n",
      "\n",
      "/Users/caoxiya/Desktop/D/KnapsackProblem/dataset/p08_hc_result.txt\n",
      "\n",
      "/Users/caoxiya/Desktop/D/KnapsackProblem/dataset/p08_hc_result.txt\n",
      "\n",
      "\n"
     ]
    }
   ],
   "source": [
    "Aresults = readResult(\"./dataset/result/p08_annel_result.txt\")\n",
    "results = readResult(\"./dataset/result/p08_ga_result.txt\")\n",
    "Rresults = readResult(\"./dataset/result/p08_rand_result.txt\")\n",
    "HCresults = readResult(\"./dataset/result/p08_hc_result.txt\")"
   ]
  },
  {
   "cell_type": "code",
   "execution_count": 5,
   "metadata": {},
   "outputs": [],
   "source": [
    "HCresult = []\n",
    "result = []\n",
    "Rresult = []\n",
    "Aresult = []\n",
    "for j in range(0,3):\n",
    "    hc = []\n",
    "    ga = []\n",
    "    rand = []\n",
    "    anneal = []\n",
    "    for i in range(0, 100):\n",
    "        hc.append(HCresults[j][i])\n",
    "        ga.append(results[j][i * 25])\n",
    "        rand.append(Rresults[j][i * 25])\n",
    "        anneal.append(Aresults[j][i * 25])\n",
    "    HCresult.append(hc)\n",
    "    result.append(ga)\n",
    "    Rresult.append(rand)\n",
    "    Aresult.append(anneal)"
   ]
  },
  {
   "cell_type": "code",
   "execution_count": 6,
   "metadata": {},
   "outputs": [],
   "source": [
    "HCresults = np.array(HCresult)\n",
    "HCresults_mean = sum(HCresults,2)/3\n",
    "HCresults_std = np.std(HCresults.transpose(),1)\n",
    "Rresults = np.array(Rresult)\n",
    "Rresults_mean = sum(Rresults,2)/3\n",
    "Rresults_std = np.std(Rresults.transpose(),1)\n",
    "results = np.array(result)\n",
    "results_mean = sum(results,2)/3\n",
    "results_std = np.std(results.transpose(),1)\n",
    "Aresults = np.array(Aresult)\n",
    "Aresults_mean = sum(Aresults,2)/3\n",
    "Aresults_std = np.std(Aresults.transpose(),1)"
   ]
  },
  {
   "cell_type": "code",
   "execution_count": 6,
   "metadata": {},
   "outputs": [
    {
     "data": {
      "text/plain": [
       "<matplotlib.legend.Legend at 0x106e4c210>"
      ]
     },
     "execution_count": 6,
     "metadata": {},
     "output_type": "execute_result"
    }
   ],
   "source": [
    "#plt.plot(Aresults[0])\n",
    "plt.plot(results[0], color = 'r', label = 'Genetic Algorithm')\n",
    "plt.plot(Rresults[0], color = 'g', label = 'Random Search')\n",
    "plt.plot(HCresults[0], color = 'b', label = 'Hill Climber')\n",
    "plt.legend(loc='best')"
   ]
  },
  {
   "cell_type": "code",
   "execution_count": 7,
   "metadata": {},
   "outputs": [
    {
     "data": {
      "image/png": "[encoded data removed]",
      "text/plain": [
       "<matplotlib.figure.Figure at 0x1061e7c50>"
      ]
     },
     "metadata": {},
     "output_type": "display_data"
    }
   ],
   "source": [
    "x = np.array(range(0,100))\n",
    "plt.errorbar(x,results_mean,results_std,color = 'g',label = 'GeneticAlgorithm')\n",
    "plt.errorbar(x,HCresults_mean, HCresults_std,color = 'r',label = 'HillClimber')\n",
    "plt.errorbar(x,Rresults_mean, Rresults_std,color = 'b', label = 'RandomSearch')\n",
    "#plt.errorbar(x,Aresults_mean, Aresults_std,color = 'y', label = 'Simulated Annealing')\n",
    "plt.grid(True)\n",
    "plt.legend(loc='best')\n",
    "plt.show()"
   ]
  },
  {
   "cell_type": "code",
   "execution_count": 8,
   "metadata": {},
   "outputs": [
    {
     "data": {
      "text/plain": [
       "array([[ 12990700.,  13313700.,  13431400., ...,  13466800.,  13466800.,\n",
       "         13466800.],\n",
       "       [ 12799100.,  13333000.,  13333000., ...,  13473900.,  13473900.,\n",
       "         13473900.],\n",
       "       [ 12266000.,  13251400.,  13251400., ...,  13509700.,  13509700.,\n",
       "         13509700.]])"
      ]
     },
     "execution_count": 8,
     "metadata": {},
     "output_type": "execute_result"
    }
   ],
   "source": [
    "HCresults"
   ]
  },
  {
   "cell_type": "code",
   "execution_count": 11,
   "metadata": {},
   "outputs": [
    {
     "data": {
      "text/plain": [
       "11.833889860932803"
      ]
     },
     "execution_count": 11,
     "metadata": {},
     "output_type": "execute_result"
    }
   ],
   "source": [
    "np.log(147.357 / 0.001069)"
   ]
  },
  {
   "cell_type": "code",
   "execution_count": 12,
   "metadata": {},
   "outputs": [
    {
     "data": {
      "text/plain": [
       "11.441984723589909"
      ]
     },
     "execution_count": 12,
     "metadata": {},
     "output_type": "execute_result"
    }
   ],
   "source": [
    "np.log(2.4 * 6404180 / 165)"
   ]
  },
  {
   "cell_type": "code",
   "execution_count": null,
   "metadata": {
    "collapsed": true
   },
   "outputs": [],
   "source": []
  }
 ],
 "metadata": {
  "kernelspec": {
   "display_name": "Python 2",
   "language": "python",
   "name": "python2"
  },
  "language_info": {
   "codemirror_mode": {
    "name": "ipython",
    "version": 2
   },
   "file_extension": ".py",
   "mimetype": "text/x-python",
   "name": "python",
   "nbconvert_exporter": "python",
   "pygments_lexer": "ipython2",
   "version": "2.7.13"
  }
 },
 "nbformat": 4,
 "nbformat_minor": 2
}
